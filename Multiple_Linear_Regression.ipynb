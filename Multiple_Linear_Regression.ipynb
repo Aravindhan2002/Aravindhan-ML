{
  "nbformat": 4,
  "nbformat_minor": 0,
  "metadata": {
    "colab": {
      "provenance": []
    },
    "kernelspec": {
      "name": "python3",
      "display_name": "Python 3"
    },
    "language_info": {
      "name": "python"
    }
  },
  "cells": [
    {
      "cell_type": "code",
      "execution_count": 4,
      "metadata": {
        "colab": {
          "base_uri": "https://localhost:8080/"
        },
        "id": "yyw7wMGidzNh",
        "outputId": "d15a4c30-0282-4deb-e0c3-caf343635c69"
      },
      "outputs": [
        {
          "output_type": "stream",
          "name": "stdout",
          "text": [
            "   car_ID  symboling                   CarName fueltype aspiration doornumber  \\\n",
            "0       1          3        alfa-romero giulia      gas        std        two   \n",
            "1       2          3       alfa-romero stelvio      gas        std        two   \n",
            "2       3          1  alfa-romero Quadrifoglio      gas        std        two   \n",
            "3       4          2               audi 100 ls      gas        std       four   \n",
            "4       5          2                audi 100ls      gas        std       four   \n",
            "\n",
            "       carbody drivewheel enginelocation  wheelbase  ...  enginesize  \\\n",
            "0  convertible        rwd          front       88.6  ...         130   \n",
            "1  convertible        rwd          front       88.6  ...         130   \n",
            "2    hatchback        rwd          front       94.5  ...         152   \n",
            "3        sedan        fwd          front       99.8  ...         109   \n",
            "4        sedan        4wd          front       99.4  ...         136   \n",
            "\n",
            "   fuelsystem  boreratio  stroke compressionratio horsepower  peakrpm citympg  \\\n",
            "0        mpfi       3.47    2.68              9.0        111     5000      21   \n",
            "1        mpfi       3.47    2.68              9.0        111     5000      21   \n",
            "2        mpfi       2.68    3.47              9.0        154     5000      19   \n",
            "3        mpfi       3.19    3.40             10.0        102     5500      24   \n",
            "4        mpfi       3.19    3.40              8.0        115     5500      18   \n",
            "\n",
            "   highwaympg    price  \n",
            "0          27  13495.0  \n",
            "1          27  16500.0  \n",
            "2          26  16500.0  \n",
            "3          30  13950.0  \n",
            "4          22  17450.0  \n",
            "\n",
            "[5 rows x 26 columns]\n",
            "                            OLS Regression Results                            \n",
            "==============================================================================\n",
            "Dep. Variable:                  price   R-squared:                       0.814\n",
            "Model:                            OLS   Adj. R-squared:                  0.811\n",
            "Method:                 Least Squares   F-statistic:                     292.9\n",
            "Date:                Tue, 03 Sep 2024   Prob (F-statistic):           4.36e-73\n",
            "Time:                        06:02:41   Log-Likelihood:                -1960.2\n",
            "No. Observations:                 205   AIC:                             3928.\n",
            "Df Residuals:                     201   BIC:                             3942.\n",
            "Df Model:                           3                                         \n",
            "Covariance Type:            nonrobust                                         \n",
            "==============================================================================\n",
            "                 coef    std err          t      P>|t|      [0.025      0.975]\n",
            "------------------------------------------------------------------------------\n",
            "const      -1.346e+04   1333.051    -10.100      0.000   -1.61e+04   -1.08e+04\n",
            "enginesize    84.8796     12.761      6.651      0.000      59.716     110.043\n",
            "horsepower    48.7473     10.697      4.557      0.000      27.655      69.840\n",
            "curbweight     4.2626      0.907      4.702      0.000       2.475       6.050\n",
            "==============================================================================\n",
            "Omnibus:                       17.983   Durbin-Watson:                   0.745\n",
            "Prob(Omnibus):                  0.000   Jarque-Bera (JB):               34.211\n",
            "Skew:                           0.437   Prob(JB):                     3.73e-08\n",
            "Kurtosis:                       4.800   Cond. No.                     1.44e+04\n",
            "==============================================================================\n",
            "\n",
            "Notes:\n",
            "[1] Standard Errors assume that the covariance matrix of the errors is correctly specified.\n",
            "[2] The condition number is large, 1.44e+04. This might indicate that there are\n",
            "strong multicollinearity or other numerical problems.\n"
          ]
        }
      ],
      "source": [
        "import statsmodels.api as sm\n",
        "import pandas as pd\n",
        "\n",
        "# Load the Car Prices dataset (replace with your actual file path)\n",
        "car_data = pd.read_csv('/content/CarPrice.csv')\n",
        "\n",
        "# Display the first few rows to understand the structure of the dataset\n",
        "print(car_data.head())\n",
        "\n",
        "# Handle missing values (e.g., replace '?' with NaN and drop rows with NaN values)\n",
        "car_data.replace('?', pd.NA, inplace=True)\n",
        "car_data.dropna(inplace=True)\n",
        "\n",
        "# Convert relevant columns to numeric types\n",
        "car_data['enginesize'] = pd.to_numeric(car_data['enginesize'])\n",
        "car_data['horsepower'] = pd.to_numeric(car_data['horsepower'])\n",
        "car_data['curbweight'] = pd.to_numeric(car_data['curbweight'])\n",
        "car_data['price'] = pd.to_numeric(car_data['price'])\n",
        "\n",
        "# Define the independent variables (predictors)\n",
        "X = car_data[['enginesize', 'horsepower', 'curbweight']]\n",
        "\n",
        "# Define the dependent variable (response)\n",
        "Y = car_data['price']\n",
        "\n",
        "# Add a constant term to the independent variables (intercept)\n",
        "X = sm.add_constant(X)\n",
        "\n",
        "# Fit the multiple linear regression model\n",
        "model = sm.OLS(Y, X).fit()\n",
        "\n",
        "# Print the summary of the regression model\n",
        "print(model.summary())\n"
      ]
    }
  ]
}